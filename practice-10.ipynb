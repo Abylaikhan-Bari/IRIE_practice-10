{
 "cells": [
  {
   "metadata": {},
   "cell_type": "markdown",
   "source": [
    "## Часть 1. Цель задания\n",
    "\n",
    "В этом практическом задании проводится тематическое моделирование текстов с помощью алгоритма LDA (Latent Dirichlet Allocation). Цель — определить скрытые темы в корпусе документов, связанных с обороной, международными военными учениями, кибербезопасностью и технологическим развитием в армии.\n",
    "\n",
    "Используем библиотеки:\n",
    "- `nltk` для предобработки текста\n",
    "- `gensim` для построения тематической модели\n",
    "- `pyLDAvis` для визуализации результатов\n"
   ],
   "id": "b16ab0d495c7bfe0"
  },
  {
   "cell_type": "code",
   "id": "initial_id",
   "metadata": {
    "collapsed": true,
    "ExecuteTime": {
     "end_time": "2025-04-17T12:13:27.108508Z",
     "start_time": "2025-04-17T12:12:28.149636Z"
    }
   },
   "source": [
    "# !pip install gensim nltk pyLDAvis\n",
    "\n",
    "import nltk\n",
    "import gensim\n",
    "from gensim import corpora\n",
    "from gensim.models import LdaModel\n",
    "import pyLDAvis\n",
    "import pyLDAvis.gensim_models\n",
    "from nltk.tokenize import word_tokenize\n",
    "from nltk.corpus import stopwords\n",
    "\n",
    "nltk.download('punkt')\n",
    "nltk.download('stopwords')\n"
   ],
   "outputs": [
    {
     "name": "stderr",
     "output_type": "stream",
     "text": [
      "/Users/aikei/PycharmProjects/IRIE_practice-10/.venv/lib/python3.9/site-packages/urllib3/__init__.py:35: NotOpenSSLWarning: urllib3 v2 only supports OpenSSL 1.1.1+, currently the 'ssl' module is compiled with 'LibreSSL 2.8.3'. See: https://github.com/urllib3/urllib3/issues/3020\n",
      "  warnings.warn(\n",
      "[nltk_data] Downloading package punkt to /Users/aikei/nltk_data...\n",
      "[nltk_data]   Package punkt is already up-to-date!\n",
      "[nltk_data] Downloading package stopwords to /Users/aikei/nltk_data...\n",
      "[nltk_data]   Package stopwords is already up-to-date!\n"
     ]
    },
    {
     "data": {
      "text/plain": [
       "True"
      ]
     },
     "execution_count": 1,
     "metadata": {},
     "output_type": "execute_result"
    }
   ],
   "execution_count": 1
  },
  {
   "metadata": {},
   "cell_type": "markdown",
   "source": [
    "## Часть 2. Подготовка документов\n",
    "\n",
    "Ниже представлены документы, охватывающие темы дронов, кибербезопасности, международных договоров, совместных учений и новых разработок.\n"
   ],
   "id": "6ffcbb7babeb7706"
  },
  {
   "metadata": {
    "ExecuteTime": {
     "end_time": "2025-04-17T12:13:27.118772Z",
     "start_time": "2025-04-17T12:13:27.116878Z"
    }
   },
   "cell_type": "code",
   "source": [
    "documents = [\n",
    "    \"The Pentagon has approved a new budget to expand drone surveillance in the Indo-Pacific region.\",\n",
    "    \"Russia and China are investing in cyber and electronic warfare technologies.\",\n",
    "    \"France and Germany signed a bilateral defense treaty focused on joint drone manufacturing.\",\n",
    "    \"The U.S. Navy conducted joint military exercises with Japan and South Korea in the Pacific Ocean.\",\n",
    "    \"Lockheed Martin is developing a next-generation missile defense system for the U.S. Army.\"\n",
    "]\n"
   ],
   "id": "5f8ad956f7dbeb88",
   "outputs": [],
   "execution_count": 2
  },
  {
   "metadata": {},
   "cell_type": "markdown",
   "source": [
    "## Часть 3. Предобработка текста\n",
    "\n",
    "Выполняем токенизацию, удаление стоп-слов и очистку от пунктуации.\n"
   ],
   "id": "9598060963be59eb"
  },
  {
   "metadata": {
    "ExecuteTime": {
     "end_time": "2025-04-17T12:13:27.199278Z",
     "start_time": "2025-04-17T12:13:27.185712Z"
    }
   },
   "cell_type": "code",
   "source": [
    "stop_words = set(stopwords.words(\"english\"))\n",
    "\n",
    "def preprocess_text(text):\n",
    "    tokens = word_tokenize(text.lower())\n",
    "    tokens = [word for word in tokens if word.isalnum() and word not in stop_words]\n",
    "    return tokens\n",
    "\n",
    "processed_docs = [preprocess_text(doc) for doc in documents]\n",
    "print(processed_docs)\n"
   ],
   "id": "9612ff420d0c802a",
   "outputs": [
    {
     "name": "stdout",
     "output_type": "stream",
     "text": [
      "[['pentagon', 'approved', 'new', 'budget', 'expand', 'drone', 'surveillance', 'region'], ['russia', 'china', 'investing', 'cyber', 'electronic', 'warfare', 'technologies'], ['france', 'germany', 'signed', 'bilateral', 'defense', 'treaty', 'focused', 'joint', 'drone', 'manufacturing'], ['navy', 'conducted', 'joint', 'military', 'exercises', 'japan', 'south', 'korea', 'pacific', 'ocean'], ['lockheed', 'martin', 'developing', 'missile', 'defense', 'system', 'army']]\n"
     ]
    }
   ],
   "execution_count": 3
  },
  {
   "metadata": {},
   "cell_type": "markdown",
   "source": [
    "## Часть 4. Создание словаря и корпуса\n",
    "\n",
    "Для обучения LDA создаём словарь и корпус на основе предобработанных текстов.\n"
   ],
   "id": "bc48d9657d033540"
  },
  {
   "metadata": {
    "ExecuteTime": {
     "end_time": "2025-04-17T12:13:27.208309Z",
     "start_time": "2025-04-17T12:13:27.206397Z"
    }
   },
   "cell_type": "code",
   "source": [
    "dictionary = corpora.Dictionary(processed_docs)\n",
    "corpus = [dictionary.doc2bow(doc) for doc in processed_docs]\n",
    "\n",
    "print(dictionary.token2id)\n",
    "print(corpus)\n"
   ],
   "id": "f8ef61c696a35dd6",
   "outputs": [
    {
     "name": "stdout",
     "output_type": "stream",
     "text": [
      "{'approved': 0, 'budget': 1, 'drone': 2, 'expand': 3, 'new': 4, 'pentagon': 5, 'region': 6, 'surveillance': 7, 'china': 8, 'cyber': 9, 'electronic': 10, 'investing': 11, 'russia': 12, 'technologies': 13, 'warfare': 14, 'bilateral': 15, 'defense': 16, 'focused': 17, 'france': 18, 'germany': 19, 'joint': 20, 'manufacturing': 21, 'signed': 22, 'treaty': 23, 'conducted': 24, 'exercises': 25, 'japan': 26, 'korea': 27, 'military': 28, 'navy': 29, 'ocean': 30, 'pacific': 31, 'south': 32, 'army': 33, 'developing': 34, 'lockheed': 35, 'martin': 36, 'missile': 37, 'system': 38}\n",
      "[[(0, 1), (1, 1), (2, 1), (3, 1), (4, 1), (5, 1), (6, 1), (7, 1)], [(8, 1), (9, 1), (10, 1), (11, 1), (12, 1), (13, 1), (14, 1)], [(2, 1), (15, 1), (16, 1), (17, 1), (18, 1), (19, 1), (20, 1), (21, 1), (22, 1), (23, 1)], [(20, 1), (24, 1), (25, 1), (26, 1), (27, 1), (28, 1), (29, 1), (30, 1), (31, 1), (32, 1)], [(16, 1), (33, 1), (34, 1), (35, 1), (36, 1), (37, 1), (38, 1)]]\n"
     ]
    }
   ],
   "execution_count": 4
  },
  {
   "metadata": {},
   "cell_type": "markdown",
   "source": [
    "## Часть 5. Тематическое моделирование\n",
    "\n",
    "Используем модель LDA для выявления скрытых тем.\n"
   ],
   "id": "8159b4512528891d"
  },
  {
   "metadata": {
    "ExecuteTime": {
     "end_time": "2025-04-17T12:13:27.222593Z",
     "start_time": "2025-04-17T12:13:27.213422Z"
    }
   },
   "cell_type": "code",
   "source": [
    "lda_model = LdaModel(corpus=corpus, id2word=dictionary, num_topics=3, passes=10, random_state=42)\n",
    "\n",
    "for idx, topic in lda_model.print_topics(num_words=5):\n",
    "    print(f\"Тема {idx}: {topic}\")\n"
   ],
   "id": "d855f1d46bac156",
   "outputs": [
    {
     "name": "stdout",
     "output_type": "stream",
     "text": [
      "Тема 0: 0.058*\"joint\" + 0.058*\"korea\" + 0.058*\"navy\" + 0.058*\"conducted\" + 0.058*\"exercises\"\n",
      "Тема 1: 0.064*\"drone\" + 0.063*\"region\" + 0.063*\"budget\" + 0.063*\"expand\" + 0.063*\"surveillance\"\n",
      "Тема 2: 0.063*\"defense\" + 0.036*\"manufacturing\" + 0.036*\"france\" + 0.036*\"signed\" + 0.036*\"germany\"\n"
     ]
    }
   ],
   "execution_count": 5
  },
  {
   "metadata": {},
   "cell_type": "markdown",
   "source": [
    "## Часть 6. Определение тем для каждого документа\n",
    "\n",
    "Теперь посмотрим, какие темы наиболее характерны для каждого документа.\n"
   ],
   "id": "c9e9681a80afb5e4"
  },
  {
   "metadata": {
    "ExecuteTime": {
     "end_time": "2025-04-17T12:13:27.231899Z",
     "start_time": "2025-04-17T12:13:27.229331Z"
    }
   },
   "cell_type": "code",
   "source": [
    "for i, doc_bow in enumerate(corpus):\n",
    "    topics = lda_model.get_document_topics(doc_bow)\n",
    "    print(f\"Документ {i+1}: {topics}\")\n"
   ],
   "id": "6be444de3c31057d",
   "outputs": [
    {
     "name": "stdout",
     "output_type": "stream",
     "text": [
      "Документ 1: [(0, 0.03727333), (1, 0.9252026), (2, 0.03752409)]\n",
      "Документ 2: [(0, 0.042137858), (1, 0.042187236), (2, 0.91567487)]\n",
      "Документ 3: [(0, 0.03135371), (1, 0.031474322), (2, 0.937172)]\n",
      "Документ 4: [(0, 0.93879277), (1, 0.030530948), (2, 0.030676316)]\n",
      "Документ 5: [(0, 0.042102072), (1, 0.042157795), (2, 0.91574013)]\n"
     ]
    }
   ],
   "execution_count": 6
  },
  {
   "metadata": {},
   "cell_type": "markdown",
   "source": [
    "## Часть 7. Визуализация тем с помощью pyLDAvis\n",
    "\n",
    "Используем интерактивную визуализацию для анализа распределения тем.\n"
   ],
   "id": "b03cab8e8f03ba62"
  },
  {
   "metadata": {
    "ExecuteTime": {
     "end_time": "2025-04-17T12:13:28.302673Z",
     "start_time": "2025-04-17T12:13:27.237461Z"
    }
   },
   "cell_type": "code",
   "source": [
    "pyLDAvis.enable_notebook()\n",
    "vis = pyLDAvis.gensim_models.prepare(lda_model, corpus, dictionary)\n",
    "pyLDAvis.display(vis)\n"
   ],
   "id": "1644a37e24bcd3d",
   "outputs": [
    {
     "data": {
      "text/plain": [
       "<IPython.core.display.HTML object>"
      ],
      "text/html": [
       "\n",
       "<link rel=\"stylesheet\" type=\"text/css\" href=\"https://cdn.jsdelivr.net/gh/bmabey/pyLDAvis@3.4.0/pyLDAvis/js/ldavis.v1.0.0.css\">\n",
       "\n",
       "\n",
       "<div id=\"ldavis_el13784136192578563102974809\" style=\"background-color:white;\"></div>\n",
       "<script type=\"text/javascript\">\n",
       "\n",
       "var ldavis_el13784136192578563102974809_data = {\"mdsDat\": {\"x\": [0.08095353598987277, -0.06913112199064841, -0.011822413999224452], \"y\": [-0.027416316387104355, -0.044383740048648423, 0.0718000564357528], \"topics\": [1, 2, 3], \"cluster\": [1, 1, 1], \"Freq\": [54.28234135655923, 25.21270590795856, 20.504952735482217]}, \"tinfo\": {\"Term\": [\"region\", \"budget\", \"expand\", \"surveillance\", \"approved\", \"pentagon\", \"new\", \"korea\", \"navy\", \"conducted\", \"exercises\", \"japan\", \"pacific\", \"military\", \"south\", \"ocean\", \"drone\", \"joint\", \"defense\", \"developing\", \"lockheed\", \"army\", \"system\", \"missile\", \"martin\", \"warfare\", \"technologies\", \"electronic\", \"china\", \"cyber\", \"defense\", \"manufacturing\", \"france\", \"signed\", \"germany\", \"treaty\", \"bilateral\", \"focused\", \"investing\", \"cyber\", \"electronic\", \"russia\", \"technologies\", \"warfare\", \"china\", \"martin\", \"missile\", \"system\", \"army\", \"lockheed\", \"developing\", \"drone\", \"joint\", \"expand\", \"region\", \"budget\", \"pentagon\", \"surveillance\", \"new\", \"approved\", \"korea\", \"navy\", \"conducted\", \"exercises\", \"japan\", \"pacific\", \"military\", \"south\", \"ocean\", \"joint\", \"new\", \"pentagon\", \"approved\", \"surveillance\", \"expand\", \"budget\", \"region\", \"developing\", \"lockheed\", \"system\", \"army\", \"missile\", \"martin\", \"china\", \"russia\", \"warfare\", \"technologies\", \"investing\", \"electronic\", \"cyber\", \"drone\", \"region\", \"budget\", \"expand\", \"surveillance\", \"approved\", \"pentagon\", \"new\", \"drone\", \"ocean\", \"south\", \"military\", \"pacific\", \"exercises\", \"japan\", \"conducted\", \"navy\", \"korea\", \"developing\", \"lockheed\", \"army\", \"system\", \"missile\", \"martin\", \"china\", \"warfare\", \"technologies\", \"electronic\", \"cyber\", \"russia\", \"investing\", \"defense\", \"joint\"], \"Freq\": [0.0, 0.0, 0.0, 0.0, 0.0, 0.0, 0.0, 0.0, 0.0, 0.0, 0.0, 0.0, 0.0, 0.0, 0.0, 0.0, 1.0, 1.0, 1.0, 1.0, 1.0, 1.0, 1.0, 1.0, 1.0, 1.0, 1.0, 1.0, 1.0, 1.0, 1.4374405856486296, 0.8221107008031505, 0.8221078131374339, 0.8221065391672646, 0.8220931200148163, 0.8220868350953152, 0.8220826734594293, 0.8220768131966512, 0.821804438374487, 0.8217956055146476, 0.8217732685710152, 0.8217742877471506, 0.8217505919020043, 0.821729104271818, 0.821689271471196, 0.8208083635649014, 0.820641643335432, 0.820416490340871, 0.8203591616832593, 0.8203554247040965, 0.8202834029238673, 0.8189626355838378, 0.8191769173662886, 0.20585249512824844, 0.20583620954291948, 0.2058339588622873, 0.20583417119064884, 0.2058256568233517, 0.20583196297568898, 0.20582455271587177, 0.6126805112579908, 0.6126617338415198, 0.612651358924436, 0.6126389721413018, 0.6126349089608469, 0.6126330154398583, 0.6126193663093983, 0.6126056382822305, 0.6125657559964065, 0.6151233900235009, 0.15482127811661942, 0.15461462791455366, 0.15460143244016383, 0.15456855223716265, 0.1544230469836894, 0.15438388463032474, 0.15425989845392066, 0.1535840791164691, 0.15357363516476594, 0.15357629792865626, 0.1535728560597758, 0.15357215585149353, 0.1535632503855937, 0.15358848747002082, 0.1535759922039133, 0.15356776722211876, 0.15356163300308254, 0.15356268824655017, 0.15355508457633005, 0.15354824028692307, 0.15456199394832165, 0.5452850108842836, 0.5451759945498835, 0.545128833275143, 0.5450169936807585, 0.544988376090916, 0.5449702173960159, 0.5447876038070208, 0.547603484816525, 0.13691041574782872, 0.13687839741300492, 0.13686108890435017, 0.13685420720813804, 0.13685111124690508, 0.13684968357566293, 0.1368400748669658, 0.13682374487455568, 0.13680510494215825, 0.13788838658994693, 0.13784983946640905, 0.1378481230526685, 0.1378069451641451, 0.1376611141611976, 0.13755836995551302, 0.13695090386260592, 0.1369429313613998, 0.1369342049214478, 0.136924900996499, 0.13691620663904686, 0.13690563545535503, 0.13689747045914996, 0.1378327876177529, 0.137063192611988], \"Total\": [0.0, 0.0, 0.0, 0.0, 0.0, 0.0, 0.0, 0.0, 0.0, 0.0, 0.0, 0.0, 0.0, 0.0, 0.0, 0.0, 1.0, 1.0, 1.0, 1.0, 1.0, 1.0, 1.0, 1.0, 1.0, 1.0, 1.0, 1.0, 1.0, 1.0, 1.7288226983830388, 1.1123576375561823, 1.112356821666141, 1.11235615472798, 1.1123520067201405, 1.1123505915839167, 1.1123493008403689, 1.1123476746468783, 1.1122645970801872, 1.1122600524406174, 1.1122532541438441, 1.1122559154064189, 1.1122464298265347, 1.1122398028553366, 1.1122286628038227, 1.1119299839060082, 1.1118749133481232, 1.1117997334336724, 1.1117801407957035, 1.1117788993352715, 1.1117558686302833, 1.5211281143486843, 1.5713635000017776, 0.9054043753870809, 0.9053811188811237, 0.9053938380424955, 0.9054190165012184, 0.9054112027412728, 0.9054408448993292, 0.9054143612469516, 0.9553059648144626, 0.955303024596017, 0.9552982995547585, 0.9552969703843998, 0.9552990596552092, 0.9552973795009566, 0.955298574380266, 0.9552944685750657, 0.955291955298776, 1.5713635000017776, 0.9054408448993292, 0.9054190165012184, 0.9054143612469516, 0.9054112027412728, 0.9054043753870809, 0.9053938380424955, 0.9053811188811237, 1.1117558686302833, 1.1117788993352715, 1.1117997334336724, 1.1117801407957035, 1.1118749133481232, 1.1119299839060082, 1.1122286628038227, 1.1122559154064189, 1.1122398028553366, 1.1122464298265347, 1.1122645970801872, 1.1122532541438441, 1.1122600524406174, 1.5211281143486843, 0.9053811188811237, 0.9053938380424955, 0.9054043753870809, 0.9054112027412728, 0.9054143612469516, 0.9054190165012184, 0.9054408448993292, 1.5211281143486843, 0.955291955298776, 0.9552944685750657, 0.955298574380266, 0.9552973795009566, 0.9552969703843998, 0.9552990596552092, 0.9552982995547585, 0.955303024596017, 0.9553059648144626, 1.1117558686302833, 1.1117788993352715, 1.1117801407957035, 1.1117997334336724, 1.1118749133481232, 1.1119299839060082, 1.1122286628038227, 1.1122398028553366, 1.1122464298265347, 1.1122532541438441, 1.1122600524406174, 1.1122559154064189, 1.1122645970801872, 1.7288226983830388, 1.5713635000017776], \"Category\": [\"Default\", \"Default\", \"Default\", \"Default\", \"Default\", \"Default\", \"Default\", \"Default\", \"Default\", \"Default\", \"Default\", \"Default\", \"Default\", \"Default\", \"Default\", \"Default\", \"Default\", \"Default\", \"Default\", \"Default\", \"Default\", \"Default\", \"Default\", \"Default\", \"Default\", \"Default\", \"Default\", \"Default\", \"Default\", \"Default\", \"Topic1\", \"Topic1\", \"Topic1\", \"Topic1\", \"Topic1\", \"Topic1\", \"Topic1\", \"Topic1\", \"Topic1\", \"Topic1\", \"Topic1\", \"Topic1\", \"Topic1\", \"Topic1\", \"Topic1\", \"Topic1\", \"Topic1\", \"Topic1\", \"Topic1\", \"Topic1\", \"Topic1\", \"Topic1\", \"Topic1\", \"Topic1\", \"Topic1\", \"Topic1\", \"Topic1\", \"Topic1\", \"Topic1\", \"Topic1\", \"Topic2\", \"Topic2\", \"Topic2\", \"Topic2\", \"Topic2\", \"Topic2\", \"Topic2\", \"Topic2\", \"Topic2\", \"Topic2\", \"Topic2\", \"Topic2\", \"Topic2\", \"Topic2\", \"Topic2\", \"Topic2\", \"Topic2\", \"Topic2\", \"Topic2\", \"Topic2\", \"Topic2\", \"Topic2\", \"Topic2\", \"Topic2\", \"Topic2\", \"Topic2\", \"Topic2\", \"Topic2\", \"Topic2\", \"Topic2\", \"Topic2\", \"Topic3\", \"Topic3\", \"Topic3\", \"Topic3\", \"Topic3\", \"Topic3\", \"Topic3\", \"Topic3\", \"Topic3\", \"Topic3\", \"Topic3\", \"Topic3\", \"Topic3\", \"Topic3\", \"Topic3\", \"Topic3\", \"Topic3\", \"Topic3\", \"Topic3\", \"Topic3\", \"Topic3\", \"Topic3\", \"Topic3\", \"Topic3\", \"Topic3\", \"Topic3\", \"Topic3\", \"Topic3\", \"Topic3\", \"Topic3\", \"Topic3\", \"Topic3\"], \"logprob\": [30.0, 29.0, 28.0, 27.0, 26.0, 25.0, 24.0, 23.0, 22.0, 21.0, 20.0, 19.0, 18.0, 17.0, 16.0, 15.0, 14.0, 13.0, 12.0, 11.0, 10.0, 9.0, 8.0, 7.0, 6.0, 5.0, 4.0, 3.0, 2.0, 1.0, -2.7638, -3.3226, -3.3226, -3.3226, -3.3226, -3.3226, -3.3226, -3.3226, -3.323, -3.323, -3.323, -3.323, -3.323, -3.323, -3.3231, -3.3242, -3.3244, -3.3246, -3.3247, -3.3247, -3.3248, -3.3264, -3.3262, -4.7073, -4.7074, -4.7074, -4.7074, -4.7074, -4.7074, -4.7074, -2.8498, -2.8498, -2.8498, -2.8498, -2.8498, -2.8498, -2.8499, -2.8499, -2.8499, -2.8458, -4.2253, -4.2267, -4.2268, -4.227, -4.2279, -4.2282, -4.229, -4.2334, -4.2334, -4.2334, -4.2334, -4.2334, -4.2335, -4.2333, -4.2334, -4.2335, -4.2335, -4.2335, -4.2335, -4.2336, -4.227, -2.7596, -2.7598, -2.7599, -2.7601, -2.7602, -2.7602, -2.7605, -2.7554, -4.1416, -4.1418, -4.142, -4.142, -4.142, -4.142, -4.1421, -4.1422, -4.1424, -4.1345, -4.1348, -4.1348, -4.1351, -4.1361, -4.1369, -4.1413, -4.1414, -4.1414, -4.1415, -4.1416, -4.1416, -4.1417, -4.1349, -4.1405], \"loglift\": [30.0, 29.0, 28.0, 27.0, 26.0, 25.0, 24.0, 23.0, 22.0, 21.0, 20.0, 19.0, 18.0, 17.0, 16.0, 15.0, 14.0, 13.0, 12.0, 11.0, 10.0, 9.0, 8.0, 7.0, 6.0, 5.0, 4.0, 3.0, 2.0, 1.0, 0.4264, 0.3086, 0.3086, 0.3086, 0.3086, 0.3086, 0.3086, 0.3086, 0.3083, 0.3083, 0.3083, 0.3083, 0.3083, 0.3083, 0.3082, 0.3074, 0.3073, 0.307, 0.307, 0.307, 0.3069, -0.0082, -0.0404, -0.8703, -0.8703, -0.8703, -0.8704, -0.8704, -0.8704, -0.8704, 0.9336, 0.9336, 0.9336, 0.9336, 0.9336, 0.9336, 0.9335, 0.9335, 0.9335, 0.4399, -0.3883, -0.3896, -0.3897, -0.3899, -0.3909, -0.3911, -0.3919, -0.6016, -0.6017, -0.6017, -0.6017, -0.6018, -0.6019, -0.602, -0.6021, -0.6022, -0.6022, -0.6022, -0.6023, -0.6023, -0.9088, 1.0775, 1.0772, 1.0771, 1.0769, 1.0769, 1.0768, 1.0765, 0.5628, -0.3582, -0.3584, -0.3586, -0.3586, -0.3586, -0.3586, -0.3587, -0.3588, -0.359, -0.5027, -0.503, -0.5031, -0.5034, -0.5045, -0.5053, -0.51, -0.5101, -0.5101, -0.5102, -0.5103, -0.5103, -0.5104, -0.9447, -0.8548]}, \"token.table\": {\"Topic\": [3, 1, 1, 3, 1, 2, 1, 1, 1, 1, 3, 1, 2, 3, 1, 1, 1, 1, 2, 1, 2, 2, 1, 1, 1, 2, 1, 2, 3, 2, 2, 3, 3, 1, 1, 2, 3, 1, 1, 1, 1], \"Freq\": [1.1044666870788127, 0.899458412060048, 0.8989981827151866, 1.1044917228087696, 0.8990956926780641, 1.0467934471003202, 0.8990703188572792, 0.5784283147920815, 0.8994780492879522, 0.6574068223229043, 0.6574068223229043, 0.8990758141406824, 1.0467949035760182, 1.1044788684310007, 0.8989994970029997, 0.8989921044419473, 0.8989959958346105, 0.8990666453154279, 1.0467926142007555, 0.6363899886938119, 0.6363899886938119, 1.0467850477561058, 0.8994594164342355, 0.8989914450508661, 0.8993372015090209, 1.0467931459530684, 0.8993817451899865, 1.046788269536658, 1.104434382028772, 1.046800399033237, 1.0467944552746453, 1.104461008411628, 1.1045072391567068, 0.8990736629479732, 0.8989926434528911, 1.0467976450147543, 1.1044705399848653, 0.8994425613969244, 0.8990813305248905, 0.8989971395403884, 0.8990866874506782], \"Term\": [\"approved\", \"army\", \"bilateral\", \"budget\", \"china\", \"conducted\", \"cyber\", \"defense\", \"developing\", \"drone\", \"drone\", \"electronic\", \"exercises\", \"expand\", \"focused\", \"france\", \"germany\", \"investing\", \"japan\", \"joint\", \"joint\", \"korea\", \"lockheed\", \"manufacturing\", \"martin\", \"military\", \"missile\", \"navy\", \"new\", \"ocean\", \"pacific\", \"pentagon\", \"region\", \"russia\", \"signed\", \"south\", \"surveillance\", \"system\", \"technologies\", \"treaty\", \"warfare\"]}, \"R\": 30, \"lambda.step\": 0.01, \"plot.opts\": {\"xlab\": \"PC1\", \"ylab\": \"PC2\"}, \"topic.order\": [3, 1, 2]};\n",
       "\n",
       "function LDAvis_load_lib(url, callback){\n",
       "  var s = document.createElement('script');\n",
       "  s.src = url;\n",
       "  s.async = true;\n",
       "  s.onreadystatechange = s.onload = callback;\n",
       "  s.onerror = function(){console.warn(\"failed to load library \" + url);};\n",
       "  document.getElementsByTagName(\"head\")[0].appendChild(s);\n",
       "}\n",
       "\n",
       "if(typeof(LDAvis) !== \"undefined\"){\n",
       "   // already loaded: just create the visualization\n",
       "   !function(LDAvis){\n",
       "       new LDAvis(\"#\" + \"ldavis_el13784136192578563102974809\", ldavis_el13784136192578563102974809_data);\n",
       "   }(LDAvis);\n",
       "}else if(typeof define === \"function\" && define.amd){\n",
       "   // require.js is available: use it to load d3/LDAvis\n",
       "   require.config({paths: {d3: \"https://d3js.org/d3.v5\"}});\n",
       "   require([\"d3\"], function(d3){\n",
       "      window.d3 = d3;\n",
       "      LDAvis_load_lib(\"https://cdn.jsdelivr.net/gh/bmabey/pyLDAvis@3.4.0/pyLDAvis/js/ldavis.v3.0.0.js\", function(){\n",
       "        new LDAvis(\"#\" + \"ldavis_el13784136192578563102974809\", ldavis_el13784136192578563102974809_data);\n",
       "      });\n",
       "    });\n",
       "}else{\n",
       "    // require.js not available: dynamically load d3 & LDAvis\n",
       "    LDAvis_load_lib(\"https://d3js.org/d3.v5.js\", function(){\n",
       "         LDAvis_load_lib(\"https://cdn.jsdelivr.net/gh/bmabey/pyLDAvis@3.4.0/pyLDAvis/js/ldavis.v3.0.0.js\", function(){\n",
       "                 new LDAvis(\"#\" + \"ldavis_el13784136192578563102974809\", ldavis_el13784136192578563102974809_data);\n",
       "            })\n",
       "         });\n",
       "}\n",
       "</script>"
      ]
     },
     "execution_count": 7,
     "metadata": {},
     "output_type": "execute_result"
    }
   ],
   "execution_count": 7
  }
 ],
 "metadata": {
  "kernelspec": {
   "display_name": "Python 3",
   "language": "python",
   "name": "python3"
  },
  "language_info": {
   "codemirror_mode": {
    "name": "ipython",
    "version": 2
   },
   "file_extension": ".py",
   "mimetype": "text/x-python",
   "name": "python",
   "nbconvert_exporter": "python",
   "pygments_lexer": "ipython2",
   "version": "2.7.6"
  }
 },
 "nbformat": 4,
 "nbformat_minor": 5
}
